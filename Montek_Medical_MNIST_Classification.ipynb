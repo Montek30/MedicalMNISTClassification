{
 "cells": [
  {
   "cell_type": "code",
   "execution_count": 99,
   "metadata": {},
   "outputs": [],
   "source": [
    "import os, time\n",
    "import numpy as np\n",
    "import pandas as pd\n",
    "import tensorflow as tf\n",
    "from tensorflow import keras\n",
    "from tensorflow.keras import layers\n",
    "from tensorflow.keras.preprocessing.image import ImageDataGenerator\n",
    "\n",
    "import matplotlib.image as mpimg\n",
    "import matplotlib.pyplot as plt"
   ]
  },
  {
   "cell_type": "code",
   "execution_count": 100,
   "metadata": {},
   "outputs": [],
   "source": [
    "#path of the pokemon data\n",
    "PATH = '/Kaggle/MedicalClassification/MedicalTrainingData/'\n",
    "TESTPATH = '/Kaggle/MedicalClassification/MedicalTestingData/'\n",
    "\n",
    "#rescaling the image's size\n",
    "img_width = 64\n",
    "img_height = 64\n",
    "\n",
    "#batch of the image data generatoor\n",
    "batch_size = 32\n",
    "\n",
    "#image 64*64\n",
    "img_shape=(64,64,2)\n",
    "\n",
    "#classes as the directories\n",
    "classes = os.listdir(PATH)\n"
   ]
  },
  {
   "cell_type": "code",
   "execution_count": 135,
   "metadata": {},
   "outputs": [
    {
     "name": "stdout",
     "output_type": "stream",
     "text": [
      "Found 40195 images belonging to 6 classes.\n",
      "Found 10047 images belonging to 6 classes.\n",
      "Found 8712 images belonging to 6 classes.\n"
     ]
    }
   ],
   "source": [
    "#normalized each pixel by dividing with the total no of pixels\n",
    "#sheer range - image is distorted along an axis so that computers can see how humans see from different angles\n",
    "#zoom range - 80% zoom in and 120% zoom out\n",
    "TRAIN_DATAGENR = ImageDataGenerator(rescale = 1./255, validation_split=0.2)\n",
    "\n",
    "TEST_DATAGENR = ImageDataGenerator(rescale = 1./255)\n",
    "\n",
    "#training data\n",
    "train_data_generator = TRAIN_DATAGENR.flow_from_directory(PATH,target_size=(img_width,img_height),batch_size=batch_size, subset='training')\n",
    "\n",
    "#validation data\n",
    "validation_data_generator = TRAIN_DATAGENR.flow_from_directory(PATH,target_size=(img_width,img_height),batch_size=batch_size, subset='validation')\n",
    "\n",
    "#test data\n",
    "test_data_generator = TEST_DATAGENR.flow_from_directory(TESTPATH,target_size=(img_width,img_height),batch_size=batch_size, shuffle=False)\n"
   ]
  },
  {
   "cell_type": "code",
   "execution_count": 136,
   "metadata": {},
   "outputs": [
    {
     "name": "stdout",
     "output_type": "stream",
     "text": [
      "Epoch 1/3\n",
      "1257/1257 [==============================] - 76s 61ms/step - loss: 0.0939 - accuracy: 0.8993 - val_loss: 0.0141 - val_accuracy: 0.9969\n",
      "Epoch 2/3\n",
      "1257/1257 [==============================] - 67s 54ms/step - loss: 0.0165 - accuracy: 0.9948 - val_loss: 0.0139 - val_accuracy: 0.9972\n",
      "Epoch 3/3\n",
      "1257/1257 [==============================] - 68s 54ms/step - loss: 0.0095 - accuracy: 0.9964 - val_loss: 0.0162 - val_accuracy: 0.9961\n"
     ]
    }
   ],
   "source": [
    "#Definiing the model for our dataset \n",
    "model = keras.Sequential()\n",
    "\n",
    "model.add(layers.Conv2D(32, 3, strides=(2,2), padding=\"same\", activation='relu'))\n",
    "model.add(layers.MaxPool2D())\n",
    "\n",
    "model.add(layers.Conv2D(64, 3, strides=(2,2), padding=\"same\", activation='relu'))\n",
    "model.add(layers.MaxPool2D())\n",
    "\n",
    "model.add(layers.Conv2D(64, 3, strides=(2,2), padding=\"same\", activation='relu'))\n",
    "model.add(layers.MaxPool2D())\n",
    "\n",
    "model.add(layers.Flatten())\n",
    "\n",
    "model.add(layers.Dropout(0.25))\n",
    "model.add(layers.Dense(128, activation='relu'))\n",
    "model.add(layers.Dense(128, activation='relu'))\n",
    "model.add(layers.Dense(len(classes), activation='softmax'))\n",
    "\n",
    "# opt = keras.optimizers.Adam(learning_rate=0.001)\n",
    "model.compile(\n",
    "             optimizer='adam',\n",
    "             loss=tf.keras.losses.categorical_crossentropy,\n",
    "             metrics=['accuracy']\n",
    "             )\n",
    "\n",
    "hist = model.fit_generator(train_data_generator, epochs=3, validation_data=validation_data_generator)\n",
    "\n"
   ]
  },
  {
   "cell_type": "code",
   "execution_count": 137,
   "metadata": {},
   "outputs": [
    {
     "name": "stdout",
     "output_type": "stream",
     "text": [
      "{'loss': [0.09394553494885008, 0.016511610496586455, 0.009490362705849966], 'accuracy': [0.9682299, 0.99502426, 0.99691504], 'val_loss': [0.014122019375805208, 0.013876169839943704, 0.016223095096509845], 'val_accuracy': [0.9969145, 0.9972131, 0.99611825]}\n"
     ]
    },
    {
     "data": {
      "image/png": "[encoded data removed]",
      "text/plain": [
       "<Figure size 576x576 with 1 Axes>"
      ]
     },
     "metadata": {},
     "output_type": "display_data"
    }
   ],
   "source": [
    "print(hist.history)\n",
    "plt.style.use(['dark_background'])\n",
    "plt.figure(figsize=(8,8))\n",
    "plt.plot(hist.history['accuracy'], label='accuracy', color='yellow')\n",
    "plt.plot(hist.history['val_accuracy'], label='accuracy', color='red')\n",
    "plt.xlabel('Epoch')\n",
    "plt.ylabel('Accuracy')\n",
    "plt.yticks(np.arange(.90, 1, step=0.02))\n",
    "plt.show()"
   ]
  },
  {
   "cell_type": "code",
   "execution_count": 139,
   "metadata": {},
   "outputs": [
    {
     "name": "stdout",
     "output_type": "stream",
     "text": [
      "['loss', 'accuracy']\n",
      "Accuracy : \n",
      "0.99517906\n"
     ]
    }
   ],
   "source": [
    "#test data\n",
    "filenames = test_data_generator.filenames\n",
    "nb_samples = len(filenames)\n",
    "\n",
    "evalu = model.evaluate_generator(test_data_generator)\n",
    "print(model.metrics_names)\n",
    "print(\"Accuracy : \")\n",
    "print(evalu[1])\n",
    "\n",
    "\n",
    "# probabilities = model.predict_generator(test_data_generator)\n",
    "# print(probabilities)"
   ]
  },
  {
   "cell_type": "code",
   "execution_count": 144,
   "metadata": {},
   "outputs": [
    {
     "name": "stdout",
     "output_type": "stream",
     "text": [
      "[0 0 0 ... 5 5 5]\n",
      "[0 0 0 ... 5 5 5]\n"
     ]
    }
   ],
   "source": [
    "print(test_data_generator.classes)\n",
    "pred = model.predict_generator(test_data_generator)\n",
    "y_pred = np.argmax(pred, axis=1)\n",
    "print(y_pred)"
   ]
  },
  {
   "cell_type": "code",
   "execution_count": 146,
   "metadata": {},
   "outputs": [
    {
     "data": {
      "text/plain": [
       "<matplotlib.axes._subplots.AxesSubplot at 0x1986c8511d0>"
      ]
     },
     "execution_count": 146,
     "metadata": {},
     "output_type": "execute_result"
    },
    {
     "data": {
      "image/png": "[encoded data removed]",
      "text/plain": [
       "<Figure size 720x720 with 2 Axes>"
      ]
     },
     "metadata": {},
     "output_type": "display_data"
    }
   ],
   "source": [
    "import seaborn as sns\n",
    "\n",
    "cm = confusion_matrix(test_data_generator.classes, y_pred)\n",
    "plt.figure(figsize=(10, 10))\n",
    "sns.heatmap(cm, annot=True)"
   ]
  },
  {
   "cell_type": "code",
   "execution_count": null,
   "metadata": {},
   "outputs": [],
   "source": []
  }
 ],
 "metadata": {
  "kernelspec": {
   "display_name": "Python 3",
   "language": "python",
   "name": "python3"
  },
  "language_info": {
   "codemirror_mode": {
    "name": "ipython",
    "version": 3
   },
   "file_extension": ".py",
   "mimetype": "text/x-python",
   "name": "python",
   "nbconvert_exporter": "python",
   "pygments_lexer": "ipython3",
   "version": "3.7.3"
  }
 },
 "nbformat": 4,
 "nbformat_minor": 2
}
